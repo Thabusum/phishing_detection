{
 "cells": [
  {
   "cell_type": "code",
   "execution_count": 1,
   "id": "806d2d9c",
   "metadata": {},
   "outputs": [],
   "source": [
    "import requests\n",
    "import re\n",
    "import csv\n",
    "def convertion(url,prediction):\n",
    "    name = []\n",
    "    \n",
    "    # found_url = find_url_in_csv('Datafiles/phishurls.csv', url)\n",
    "    '''if \"https://\" in url:\n",
    "        urlz = url.replace(\"https://\",\"\")\n",
    "    if \"http://\" in url:\n",
    "        urlz = url.replace(\"http://\",\"\")\n",
    "    url_found = find_url_in_csv('Datafiles/legitimateurls.csv', urlz)'''\n",
    "    \n",
    "    if(shortlink(url)==-1):\n",
    "        return [url,\"Not Safe\",\"Still want to Continue\"]\n",
    "    elif(prediction==1):\n",
    "        return [url,\"Safe\",\"Continue\",\"1\"]\n",
    "    else:\n",
    "        return [url,\"Not Safe\",\"Still want to Continue\"]\n",
    "def shortlink(url):\n",
    "        match = re.search('bit\\.ly|goo\\.gl|shorte\\.st|go2l\\.ink|x\\.co|ow\\.ly|t\\.co|tinyurl|tr\\.im|is\\.gd|cli\\.gs|'\n",
    "                          'yfrog\\.com|migre\\.me|ff\\.im|tiny\\.cc|url4\\.eu|twit\\.ac|su\\.pr|twurl\\.nl|snipurl\\.com|'\n",
    "                          'short\\.to|BudURL\\.com|ping\\.fm|post\\.ly|Just\\.as|bkite\\.com|snipr\\.com|fic\\.kr|loopt\\.us|'\n",
    "                          'doiop\\.com|short\\.ie|kl\\.am|wp\\.me|rubyurl\\.com|om\\.ly|to\\.ly|bit\\.do|t\\.co|lnkd\\.in|'\n",
    "                          'db\\.tt|qr\\.ae|adf\\.ly|goo\\.gl|bitly\\.com|cur\\.lv|tinyurl\\.com|ow\\.ly|bit\\.ly|ity\\.im|'\n",
    "                          'q\\.gs|is\\.gd|po\\.st|bc\\.vc|twitthis\\.com|u\\.to|j\\.mp|buzurl\\.com|cutt\\.us|u\\.bb|yourls\\.org|'\n",
    "                          'x\\.co|prettylinkpro\\.com|scrnch\\.me|filoops\\.info|vzturl\\.com|qr\\.net|1url\\.com|tweez\\.me|v\\.gd|tr\\.im|link\\.zip\\.net',\n",
    "                          url)\n",
    "        if match:\n",
    "            return -1\n",
    "        return 1\n",
    "def find_url_in_csv(csv_file, target_url):\n",
    "    with open(csv_file, 'r', newline='', encoding='utf-8') as file:\n",
    "        csv_reader = csv.reader(file)\n",
    "        for row in csv_reader:\n",
    "            url = row [0].strip() \n",
    "            if url == target_url:\n",
    "                return url\n",
    "    return None"
   ]
  },
  {
   "cell_type": "code",
   "execution_count": null,
   "id": "0ab6a2ef",
   "metadata": {},
   "outputs": [],
   "source": []
  }
 ],
 "metadata": {
  "kernelspec": {
   "display_name": "Python 3 (ipykernel)",
   "language": "python",
   "name": "python3"
  },
  "language_info": {
   "codemirror_mode": {
    "name": "ipython",
    "version": 3
   },
   "file_extension": ".py",
   "mimetype": "text/x-python",
   "name": "python",
   "nbconvert_exporter": "python",
   "pygments_lexer": "ipython3",
   "version": "3.11.4"
  }
 },
 "nbformat": 4,
 "nbformat_minor": 5
}
